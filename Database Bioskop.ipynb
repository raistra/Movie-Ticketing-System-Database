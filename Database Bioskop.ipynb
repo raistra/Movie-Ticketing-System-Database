{
 "cells": [
  {
   "cell_type": "markdown",
   "id": "dd67bc25",
   "metadata": {},
   "source": [
    "## **1. Penjelasan Proyek**"
   ]
  },
  {
   "cell_type": "markdown",
   "id": "0265dc29",
   "metadata": {},
   "source": [
    "Sebagai tugas akhir mata kuliah Database Sains Data, kelompok kami mengembangkan database **Sistem Pemesanan Tiket Bioskop Online**. Kami memilih topik tersebut karena selain adanya familiaritas akan proses pemesanan tiket bioskop dan minat untuk menyelidiknya lebih dalam, topik ini berguna untuk menangani permasalahan yang dihadapi ketika membeli tiket bioskop ketika dilakukan manual. Antrean yang berkepanjangan memakan waktu lama, pengunjung kesusahan memilih tempat duduk sesuai dengan keinginannya menimbulkan ketidaknyamanan, serta yang lebih parah, kehabisan *seat* :("
   ]
  },
  {
   "cell_type": "markdown",
   "id": "66726597",
   "metadata": {},
   "source": [
    "<center><img src=\"CGV-Raya-Padang.jpg\" width=\"500\" height=\"100\"><center>"
   ]
  },
  {
   "cell_type": "markdown",
   "id": "55c4858c",
   "metadata": {},
   "source": [
    "\n",
    "Karena itu, dibutuhkan sebuah sistem yang memudahkan pengunjung untuk melakukan proses pemesanan tiket bioskop, yaitu sistem online dengan menggunakan teknologi berbasis internet sehingga pengunjung dapat membayar tiket tanpa harus mengantri. Pengunjung dapat melihat film yang akan ditayangkan di bioskop, mendapatkan informasi harga tiket pada bioskop yang berbeda lokasinya, mendapatkan informasi ketersediaan tiket dan lokasi tempat duduk, dan membeli tiket bioskop yang ingin ditontonnya melalui internet. Kode booking yang diperoleh pada saat pengunjung selesai melakukan transaksi digunakan sebagai bukti pembayaran yang sah dan kode tersebut akan digunakan sebagai tiket masuk.\n",
    "\n",
    "### **Software yang Digunakan**\n",
    "1. Draw.io: untuk berkolaborasi dalam mengembangkan diagram-diagram\n",
    "2. DB Browser for SQLite: untuk melihat dan mengedit rancangan database yang telah dibuat\n",
    "3. Jupyter Notebook: untuk menyusun database menggunakan modul SQLite3"
   ]
  },
  {
   "cell_type": "markdown",
   "id": "2e1e7cbe",
   "metadata": {},
   "source": [
    "## **2. Perancangan Database Awal**"
   ]
  },
  {
   "cell_type": "markdown",
   "id": "fc00b46e",
   "metadata": {},
   "source": [
    "### **Entity Relationship Diagram (ERD)**\n",
    "\n",
    "Sebagai tahap awal dalam merancang sebuah database, kita perlu melihat struktur serta hubungan/relasi antar entitas serta atributnya (kolom dan data) Berikut ERD yang telah kami kembangkan"
   ]
  },
  {
   "cell_type": "markdown",
   "id": "43098711",
   "metadata": {},
   "source": [
    "<center ><img src=\"ERD.png\" width=\"700\" height=\"440\"> <center>"
   ]
  },
  {
   "cell_type": "markdown",
   "id": "340f5ec2",
   "metadata": {},
   "source": [
    "Agar tidak terlalu panjang pada notebook, kita akan memperjelas 3 entitas.\n",
    "\n",
    "#### Entitas Pelanggan\n",
    "Entitas pelanggan memiliki atribut id_pelanggan (primary key), nama, jenis kelamin, alamat, no_HP, dan email. \n",
    "\n",
    "Setiap pelanggan dapat melakukan lebih dari satu pemesanan tiket bioskop sementara setiap pemesanan hanya dapat dilakukan oleh satu pelanggan. Oleh karena itu, hubungan antara entitas pelanggan dan pemesanan adalah **one-to-many.**\n",
    "\n",
    "Selain itu, setiap pelanggan tidak harus melakukan pemesanan tiket bioskop dan pemesanan tidak harus dilakukan oleh pelanggan. Dengan demikian, jenis participation constraint yang digunakan adalah **partial participation.** \n",
    "\n",
    "#### Entitas Tiket\n",
    "Entitas tiket memiliki atribut id_tiket (primary key), id_jadwal (foreign key), nama_kursi (foreign key), dan harga. Perhatikan bahwa atribut harga merupakan *multivalued-atribute* karena harga tiket bioskop bersifat variatif. \n",
    "\n",
    "Setiap tiket memiliki satu jadwal, namun setiap jadwal dapat dimiliki oleh lebih dari satu tiket. Oleh karena itu, hubungan antara entitas tiket dan jadwal adalah **many-to-one.** \n",
    "\n",
    "Selain itu, setiap tiket pasti akan memiliki jadwal, namun setiap jadwal film belum tentu memiliki tiket. Dengan demikian, jenis participation constraint yang digunakan adalah **partial participation.**\n",
    "\n",
    "#### Entitas Kursi\n",
    "Entitas kursi memiliki atribut nama_kursi sebagai primary key dan kode studio sebagai foreign key. \n",
    "\n",
    "Satu tiket hanya memperoleh satu kursi dan satu kursi diperoleh satu tiket, sehingga entitas tiket dan entitas kursi memiliki **one to one relationship.**\n",
    "\n",
    "Perhatikan bahwa tiap tiket pasti memperoleh kursi sehingga jenis participation constraint disini adalah **total participation.**"
   ]
  },
  {
   "cell_type": "markdown",
   "id": "0ddaba23",
   "metadata": {},
   "source": [
    "### **Tabel Relasional**\n",
    "\n",
    "Model Data Relasional (Tabel Relasional) menunjukan cara mengelola data, yang berdampak pada bagaimana kita mengelompokan data dan membentuk keseluruhan database. Berikut adalah tabel relasional yang telah kami buat\n"
   ]
  },
  {
   "cell_type": "markdown",
   "id": "c6ff9c12",
   "metadata": {},
   "source": [
    "<center><img src=\"Relasional.png\" width=\"500\" height=\"440\"> <center>"
   ]
  },
  {
   "cell_type": "markdown",
   "id": "90e9ea0a",
   "metadata": {},
   "source": [
    "Agar tidak terlalu panjang, kita akan memperjelas 3 tabel.\n",
    "\n",
    "#### Tabel pelanggan\n",
    "Tabel pelanggan memiliki atribut/kolom id_pelanggan (INT) sebagai **primary key**, nama (VARCHAR(50)), jenis kelamin VARCHAR(10)), alamat (VARCHAR(100)), no_HP (INT), dan email (VARCHAR(50)). Atribut id_pelanggan (primary key) juga menghubungkan ke tabel pemesanan sebagai **foreign key** dengan hubungan **one-to-many.**\n",
    "\n",
    "#### Tabel tiket\n",
    "Tabel tiket memiliki atribut/kolom id_tiket (INT) sebagai **primary key**, harga (FLOAT), id_jadwal (INT) sebagai **foreign key** yang menghubungkan tabel tiket ke tabel jadwal dengan hubungan many-to-one, nama_kursi (VARCHAR(10)) sebagai **foreign key** yang menghubungkan tabel kursi ke tabel tiket, dan kode_film (INT) sebagai **foreign key** yang menghubungkan tabel film ke tabel pemesanan. Atribut id_tiket (primary_key) juga menghubungkan ke tabel pemesanan sebagai foreign key.\n",
    "\n",
    "#### Tabel kursi\n",
    "Tabel kursi memiliki atribut/kolom nama_kursi (VARCHAR(10)) sebagai **primary key** dan kode_studio (INT) sebagai **foreign key** yang menghubungkan tabel kursi dengan tabel studio.\n"
   ]
  },
  {
   "cell_type": "markdown",
   "id": "598a18ee",
   "metadata": {},
   "source": [
    "## **3. Pembuatan Database** "
   ]
  },
  {
   "cell_type": "markdown",
   "id": "161f9259",
   "metadata": {},
   "source": [
    "### **Menghubungkan Jupyter Notebook dengan DB Browser**\n",
    "\n",
    "Sebelum membuat tabel, kita perlu  menghubungkan Notebook kita dengan DB Browser melalui package sqlite3"
   ]
  },
  {
   "cell_type": "code",
   "execution_count": 23,
   "id": "4e71f47a",
   "metadata": {},
   "outputs": [],
   "source": [
    "import sqlite3\n",
    "MyDB = sqlite3.connect('bioskop1.sqlite')\n",
    "cursor = MyDB.cursor()"
   ]
  },
  {
   "cell_type": "markdown",
   "id": "d098b82c",
   "metadata": {},
   "source": [
    "### **Create Table**\n",
    "Pada tahap ini, akan dibentuk terlebih dahulu tabel-tabel sesuai dengan ERD yang telah kami buat. Total tabel yang kami buat adalah 8 tabel, yaitu: PELANGGAN, PEMESANAN, STUDIO, TIKET, GENRE, JADWAL, KURSI, dan FILM."
   ]
  },
  {
   "cell_type": "code",
   "execution_count": 24,
   "id": "0dc4557b",
   "metadata": {},
   "outputs": [],
   "source": [
    "#MEMBUAT TABLE\n",
    "\n",
    "#TABLE PELANGGAN\n",
    "MyDB = sqlite3.connect('bioskop1.sqlite')\n",
    "cursor = MyDB.cursor()\n",
    "cursor.execute('''CREATE TABLE PELANGGAN\n",
    "         (ID_PELANGGAN INT PRIMARY KEY NOT NULL,\n",
    "         NAMA VARCHAR(50) ,\n",
    "         JENIS_KELAMIN VARCHAR(10) ,\n",
    "         ALAMAT VARCHAR(100) ,\n",
    "         NO_HP INT, \n",
    "         EMAIL VARCHAR(50));''')\n",
    "\n",
    "#TABLE PEMESANAN\n",
    "cursor.execute('''CREATE TABLE PEMESANAN\n",
    "         (ID_PEMESANAN INT PRIMARY KEY NOT NULL,\n",
    "         JUMLAH_TIKET INT,\n",
    "         TOTAL_HARGA FLOAT,\n",
    "         TANGGAL_PEMESANAN DATE,\n",
    "         ID_TIKET INT,\n",
    "         ID_PELANGGAN INT);''')\n",
    "\n",
    "#TABLE STUDIO\n",
    "cursor.execute('''CREATE TABLE STUDIO\n",
    "         (KODE_STUDIO INT PRIMARY KEY NOT NULL,\n",
    "         NAMA_STUDIO INT,\n",
    "         KODE_FILM INT);''')\n",
    "\n",
    "#TABLE JADWAL\n",
    "cursor.execute('''CREATE TABLE JADWAL\n",
    "         (ID_JADWAL INT PRIMARY KEY NOT NULL,\n",
    "         TANGGAL DATE,\n",
    "         JAM_MULAI TIME,\n",
    "         JAM_SELESAI TIME);''')\n",
    "\n",
    "#TABLE TIKET\n",
    "cursor.execute('''CREATE TABLE TIKET\n",
    "         (ID_TIKET INT PRIMARY KEY NOT NULL,\n",
    "         HARGA FLOAT,\n",
    "         ID_JADWAL INT,\n",
    "         KODE_FILM INT,\n",
    "         NAMA_KURSI VARCHAR(10));''')\n",
    "\n",
    "#TABLE KURSI\n",
    "cursor.execute('''CREATE TABLE KURSI\n",
    "         (NAMA_KURSI VARCHAR(10) PRIMARY KEY NOT NULL,\n",
    "         KODE_STUDIO INT);''')\n",
    "\n",
    "#TABLE GENRE\n",
    "cursor.execute('''CREATE TABLE GENRE\n",
    "         (KODE_GENRE INT PRIMARY KEY NOT NULL,\n",
    "         NAMA_GENRE VARCHAR(20));''')\n",
    "\n",
    "#TABLE FILM\n",
    "cursor.execute('''CREATE TABLE FILM\n",
    "         (KODE_FILM INT PRIMARY KEY NOT NULL,\n",
    "         JUDUL VARCHAR(50),\n",
    "         KODE_GENRE INT);''')\n",
    "\n",
    "cursor.close()"
   ]
  },
  {
   "cell_type": "markdown",
   "id": "7bfe295d",
   "metadata": {},
   "source": [
    "### **Insert Record**\n",
    "Pada tahap ini, akan dimasukkan data dummy ke dalam tabel-tabel yang telah dibuat pada tahap sebelumnya. "
   ]
  },
  {
   "cell_type": "code",
   "execution_count": 25,
   "id": "d578c6d8",
   "metadata": {},
   "outputs": [],
   "source": [
    "#INSERT RECORD KE TABEL\n",
    "\n",
    "#TABLE PELANGGAN \n",
    "\n",
    "MyDB = sqlite3.connect('bioskop1.sqlite')\n",
    "cursor = MyDB.cursor()\n",
    "cursor.execute(\"\"\"INSERT OR IGNORE INTO PELANGGAN (ID_PELANGGAN, NAMA, JENIS_KELAMIN, ALAMAT, NO_HP, EMAIL) \\\n",
    "      VALUES \n",
    "      (1231, 'Fara', 'Perempuan', 'jalan kenangan no 1', 62234567890, 'fara@gmail.com'),\n",
    "      (1232, 'Aurel', 'Perempuan', 'jalan kebajikan no 21', 62234557878 , 'aurel@gmail.com'),\n",
    "      (1233, 'Natania', 'Perempuan', 'jalan angkasa no 3', 62278567890 , 'natania@gmail.com'),\n",
    "      (1234, 'Yovela', 'Perempuan', 'jalan kebenaran no 8', 62250567857 , 'yovela@gmail.com'),\n",
    "      (1235, 'Najwa', 'Perempuan', 'jalan pelita no 89', 62234567376 , 'najwa@gmail.com'),\n",
    "      (1236, 'Fairuz', 'Perempuan', 'jalan melati no 90', 62234467579 , 'fairuz@gmail.com'),\n",
    "      (1237, 'Nathan', 'Laki-Laki', 'jalan anggrek no 91', 62234237856 , 'nathan@gmail.com'),\n",
    "      (1238, 'Raistro', 'Laki-Laki', 'jalan mawar no 92', 62124526890 , 'raistro@gmail.com'),\n",
    "      (1239, 'Natalia', 'Perempuan', 'jalan kamboja no 93', 62124477284 , 'natalia@gmail.com'),\n",
    "      (1240, 'Mufidah', 'Perempuan', 'jalan tulip no 94', 62134526482 , 'mufidah@gmail.com')\"\"\");\n",
    "                           \n",
    "MyDB.commit()\n",
    "MyDB.close()\n",
    "\n",
    "\n",
    "#TABLE PEMESANAN\n",
    "MyDB = sqlite3.connect('bioskop1.sqlite')\n",
    "cursor = MyDB.cursor()\n",
    "cursor.execute(\"\"\"INSERT INTO PEMESANAN (ID_PEMESANAN, JUMLAH_TIKET, TOTAL_HARGA, TANGGAL_PEMESANAN, ID_TIKET, ID_PELANGGAN)\\\n",
    "      VALUES \n",
    "      (453, 1, 85000, '16-05-2022', 17055, 1231),\n",
    "      (454, 2, 100000, '17-05-2022', 18442, 1232),\n",
    "      (455, 1, 50000, '17-05-2022', 20730, 1233),\n",
    "      (459, 1, 85000, '18-05-2022', 85167, 1234),\n",
    "      (460, 1, 50000, '18-05-2022', 27281, 1235),\n",
    "      (461, 3, 150000, '19-05-2022', 32580, 1236),\n",
    "      (462, 2, 150000, '19-05-2022', 24803, 1237),\n",
    "      (463, 1, 75000, '19-05-2022', 73493, 1238),  \n",
    "      (464, 5, 300000, '20-05-2022', 37425, 1239),\n",
    "      (465, 1, 60000, '20-05-2022', 73244, 1240)\"\"\");\n",
    "                           \n",
    "MyDB.commit()\n",
    "MyDB.close()\n",
    "\n",
    "#TABLE STUDIO\n",
    "MyDB = sqlite3.connect('bioskop1.sqlite')\n",
    "cursor = MyDB.cursor()\n",
    "cursor.execute(\"\"\"INSERT OR IGNORE INTO STUDIO (KODE_STUDIO, NAMA_STUDIO, KODE_FILM) \\\n",
    "      VALUES \n",
    "      (171, 1, 'KKN'),\n",
    "      (183, 2, 'DRS'),\n",
    "      (171, 1, 'KKN'),\n",
    "      (183, 2, 'DRS'),\n",
    "      (215, 3, 'FST'),\n",
    "      (215, 3, 'KKN'),\n",
    "      (171, 1, 'DRS'),\n",
    "      (215, 3, 'KKN'),\n",
    "      (215, 3, 'KKN'),\n",
    "      (215, 3, 'KKN')\"\"\");\n",
    "\n",
    "MyDB.commit()\n",
    "MyDB.close()\n",
    "\n",
    "#TABLE JADWAL\n",
    "MyDB = sqlite3.connect('bioskop1.sqlite')\n",
    "cursor = MyDB.cursor()\n",
    "cursor.execute(\"\"\"INSERT OR IGNORE INTO JADWAL (ID_JADWAL, TANGGAL, JAM_MULAI, JAM_SELESAI) \\\n",
    "      VALUES \n",
    "      (171921, '17-05-2022', '19:00', '21:00'),\n",
    "      (171315, '17-05-2022', '13:30', '15:30'),\n",
    "      (181921, '18-05-2022', '13:30', '15:30'),\n",
    "      (181517, '18-05-2022', '15:00', '17:00'),\n",
    "      (181719, '18-05-2022', '17:00', '19:00'),\n",
    "      (211719, '21-05-2022', '17:00', '19:00'),\n",
    "      (211315, '21-05-2022', '13:30', '15:30'),\n",
    "      (211012, '21-05-2022', '10:00', '12:00'),\n",
    "      (211316, '21-05-2022', '13:00', '15:00'),\n",
    "      (212022, '21-05-2022', '20:00', '22:00')\"\"\");\n",
    "\n",
    "MyDB.commit()\n",
    "MyDB.close()\n",
    "\n",
    "\n",
    "\n",
    "#TABLE TIKET \n",
    "MyDB = sqlite3.connect('bioskop1.sqlite')\n",
    "cursor = MyDB.cursor()\n",
    "cursor.execute(\"\"\"INSERT INTO TIKET (ID_TIKET, HARGA, ID_JADWAL, KODE_FILM, NAMA_KURSI) \\\n",
    "      VALUES \n",
    "      (17055, 85000, 171921, 'KKN', 'A5'),\n",
    "      (18442, 50000, 171315, 'DRS', 'C6,C7'),\n",
    "      (20730, 50000, 181921, 'KKN', 'A6'),\n",
    "      (85167, 85000, 181517, 'DRS', 'D3'),\n",
    "      (27281, 50000, 181719, 'FST', 'C8'),\n",
    "      (32580, 50000, 211719, 'KKN', 'G10,G11,G12'),\n",
    "      (24803, 75000, 211315, 'DRS', 'J5,J6'),\n",
    "      (73493, 75000, 211012, 'KKN', 'F7'),\n",
    "      (37425, 60000, 211316, 'KKN', 'H3,H4,H5,H6,H7'),\n",
    "      (73244, 60000, 212022, 'KKN', 'H8')\"\"\");\n",
    "\n",
    "MyDB.commit()\n",
    "MyDB.close()\n",
    "\n",
    "\n",
    "\n",
    "\n",
    "#TABLE KURSI\n",
    "MyDB = sqlite3.connect('bioskop1.sqlite')\n",
    "cursor = MyDB.cursor()\n",
    "cursor.execute(\"\"\"INSERT INTO KURSI (NAMA_KURSI, KODE_STUDIO) \\\n",
    "      VALUES \n",
    "      ('A5', '171'),\n",
    "      ('C6,C7', '183'),\n",
    "      ('A6', '171'),\n",
    "      ('D3', '183'),\n",
    "      ('C8', '215'),\n",
    "      ('G10,G11,G12', '215'),\n",
    "      ('J5,J6', '171'),\n",
    "      ('F7', '215'),  \n",
    "      ('H3,H4,H5,H6,H7', '215'),\n",
    "      ('H8', '215')\"\"\");\n",
    "\n",
    "MyDB.commit()\n",
    "MyDB.close()\n",
    "\n",
    "\n",
    "\n",
    "#TABLE GENRE\n",
    "MyDB = sqlite3.connect('bioskop1.sqlite')\n",
    "cursor = MyDB.cursor()\n",
    "cursor.execute(\"\"\"INSERT INTO GENRE (KODE_GENRE, NAMA_GENRE) \\\n",
    "      VALUES \n",
    "      ('H', 'horror'),\n",
    "      ('S', 'science fiction'),\n",
    "      ('T', 'thriller')\"\"\");\n",
    "\n",
    "MyDB.commit()\n",
    "MyDB.close()\n",
    "\n",
    "\n",
    "\n",
    "#TABLE FILM\n",
    "MyDB = sqlite3.connect('bioskop1.sqlite')\n",
    "cursor = MyDB.cursor()\n",
    "cursor.execute(\"\"\"INSERT INTO FILM (KODE_FILM, JUDUL, KODE_GENRE) \\\n",
    "      VALUES \n",
    "      ('KKN', 'KKN di DESA PENARI', 'H'),\n",
    "      ('DRS', 'DR. STRANGE', 'S'),\n",
    "      ('FST', 'FIRE STARTER', 'T')\"\"\");\n",
    "\n",
    "MyDB.commit()\n",
    "MyDB.close()"
   ]
  },
  {
   "cell_type": "markdown",
   "id": "da9a71c5",
   "metadata": {},
   "source": [
    "### **Insert New Record**\n",
    "Berikut  adalah code yang digunakan untuk menambahkan record baru pada table."
   ]
  },
  {
   "cell_type": "code",
   "execution_count": 26,
   "id": "523774e0",
   "metadata": {},
   "outputs": [],
   "source": [
    "#INSERT RECORD BARU\n",
    "\n",
    "MyDB = sqlite3.connect('bioskop1.sqlite')\n",
    "cursor = MyDB.cursor()\n",
    "cursor.execute(\"\"\"INSERT OR IGNORE INTO PELANGGAN (ID_PELANGGAN, NAMA, JENIS_KELAMIN, ALAMAT, NO_HP, EMAIL) \\\n",
    "      VALUES \n",
    "      (1241, 'Dora', 'Perempuan', 'jalan kenangan no 12', 62232665893, 'dora@gmail.com'),\n",
    "      (1242, 'Patrick', 'Laki-Laki', 'jalan tulip no 95', 62154726467 , 'patrick@gmail.com')\"\"\");\n",
    "            \n",
    "               \n",
    "MyDB.commit()\n",
    "MyDB.close()"
   ]
  },
  {
   "cell_type": "markdown",
   "id": "4a99e2b2",
   "metadata": {},
   "source": [
    "### **Update Record**\n",
    "Berikut adalah code yang digunakan untuk memperbaharui record pada table. "
   ]
  },
  {
   "cell_type": "code",
   "execution_count": 31,
   "id": "6e7eef47",
   "metadata": {},
   "outputs": [],
   "source": [
    "#UPDATE RECORD\n",
    "MyDB = sqlite3.connect('bioskop1.sqlite')\n",
    "cursor = MyDB.cursor()\n",
    "cursor.execute(\"UPDATE PELANGGAN SET NAMA='Patrik' WHERE ID_PELANGGAN = 1242\");\n",
    "MyDB.commit()\n",
    "MyDB.close()"
   ]
  },
  {
   "cell_type": "markdown",
   "id": "4d8eec84",
   "metadata": {},
   "source": [
    "Misalkan terdapat kesalahan input nama pada pelanggan bernama Patrick dengan ID_PELANGGAN 1242. Maka dengan code tersebut, nama yang awalnya Patrick akan berubah menjadi Patrik."
   ]
  },
  {
   "cell_type": "markdown",
   "id": "7b52ff66",
   "metadata": {},
   "source": [
    "### **Delete Record**\n",
    "Berikut adalah code yang digunakan untuk menghapus record pada table."
   ]
  },
  {
   "cell_type": "code",
   "execution_count": 32,
   "id": "4dad4c04",
   "metadata": {},
   "outputs": [],
   "source": [
    "#DELETE RECORD\n",
    "\n",
    "MyDB = sqlite3.connect('bioskop1.sqlite')\n",
    "cursor = MyDB.cursor()\n",
    "cursor.execute(\"DELETE FROM PELANGGAN WHERE ID_PELANGGAN = 1241\");\n",
    "MyDB.commit()\n",
    "MyDB.close()"
   ]
  },
  {
   "cell_type": "markdown",
   "id": "d4bdecae",
   "metadata": {},
   "source": [
    "Pada tahap ini, dilakukan penghapusan salah satu record dari table PELANGGAN. Akan dihapus pelanggan yang memiliki ID PELANGGAN 1241. Setelah code tersebut di-run maka pelanggan yang memiliki id pelanggan 1241 akan terhapus dari table."
   ]
  },
  {
   "cell_type": "markdown",
   "id": "7cd32099",
   "metadata": {},
   "source": [
    "### **Select**\n",
    "Pada tahap ini, misalkan ingin melihat semua isi data (record) dari tabel PELANGGAN, maka dapat dilakukan dengan menggunakan syntax\n",
    "\n",
    "    cursor.execute(“SELECT * FROM (nama tabel)”)\n",
    "\n",
    "Simbol (*) di sini berarti mengambil semua data tanpa terkecuali. \n",
    "\n",
    "Kemudian menggunakan syntax \n",
    "\n",
    "    fetchall() \n",
    "\n",
    "untuk menampilkan semua datanya dan data disimpan dalam storage. Menggunakan sedikit looping agar data terlihat rapi.\n"
   ]
  },
  {
   "cell_type": "code",
   "execution_count": 39,
   "id": "592ced70",
   "metadata": {},
   "outputs": [
    {
     "name": "stdout",
     "output_type": "stream",
     "text": [
      "(1231, 'Fara', 'Perempuan', 'jalan kenangan no 1', 62234567890, 'fara@gmail.com')\n",
      "(1232, 'Aurel', 'Perempuan', 'jalan kebajikan no 21', 62234557878, 'aurel@gmail.com')\n",
      "(1233, 'Natania', 'Perempuan', 'jalan angkasa no 3', 62278567890, 'natania@gmail.com')\n",
      "(1234, 'Yovela', 'Perempuan', 'jalan kebenaran no 8', 62250567857, 'yovela@gmail.com')\n",
      "(1235, 'Najwa', 'Perempuan', 'jalan pelita no 89', 62234567376, 'najwa@gmail.com')\n",
      "(1236, 'Fairuz', 'Perempuan', 'jalan melati no 90', 62234467579, 'fairuz@gmail.com')\n",
      "(1237, 'Nathan', 'Laki-Laki', 'jalan anggrek no 91', 62234237856, 'nathan@gmail.com')\n",
      "(1238, 'Raistro', 'Laki-Laki', 'jalan mawar no 92', 62124526890, 'raistro@gmail.com')\n",
      "(1239, 'Natalia', 'Perempuan', 'jalan kamboja no 93', 62124477284, 'natalia@gmail.com')\n",
      "(1240, 'Mufidah', 'Perempuan', 'jalan tulip no 94', 62134526482, 'mufidah@gmail.com')\n",
      "(1242, 'Patrik', 'Laki-Laki', 'jalan tulip no 95', 62154726467, 'patrick@gmail.com')\n"
     ]
    }
   ],
   "source": [
    "#SELECT\n",
    "MyDB = sqlite3.connect('bioskop1.sqlite')\n",
    "cursor = MyDB.cursor()\n",
    "cursor.execute(\"SELECT * FROM PELANGGAN\")\n",
    "cust=cursor.fetchall()\n",
    "for customer in cust:\n",
    "    print(customer)\n",
    "MyDB.commit()\n",
    "MyDB.close()"
   ]
  },
  {
   "cell_type": "markdown",
   "id": "0a48e74f",
   "metadata": {},
   "source": [
    "Misalkan pula, ingin diketahui apa saja judul film yang diputar di bioskop dengan asumsi hanya ada tiga film yang diputar. Maka, hal itu dapat dilakukan dengan syntax\n",
    "\n",
    "    cursor.execute(“SELECT (atribut yang diinginkan)  FROM (tabel yang berisikan atribut tersebut))\n",
    "\n",
    "Dengan menggunakan \n",
    "\n",
    "    fetchall() \n",
    "\n",
    "untuk menampilkan semua record dan menyimpan dalam storage, maka dihasilkan output sebagai berikut."
   ]
  },
  {
   "cell_type": "code",
   "execution_count": 33,
   "id": "3039a8d8",
   "metadata": {},
   "outputs": [
    {
     "name": "stdout",
     "output_type": "stream",
     "text": [
      "('KKN di DESA PENARI',)\n",
      "('DR. STRANGE',)\n",
      "('FIRE STARTER',)\n"
     ]
    }
   ],
   "source": [
    "MyDB = sqlite3.connect('bioskop1.sqlite')\n",
    "cursor = MyDB.cursor()\n",
    "cursor.execute(\"SELECT JUDUL FROM FILM\")\n",
    "titles=cursor.fetchall()\n",
    "for title in titles:\n",
    "    print(title)\n",
    "MyDB.commit()\n",
    "MyDB.close()"
   ]
  },
  {
   "cell_type": "markdown",
   "id": "33691eb4",
   "metadata": {},
   "source": [
    "### **Count**"
   ]
  },
  {
   "cell_type": "code",
   "execution_count": 37,
   "id": "1c486dba",
   "metadata": {},
   "outputs": [
    {
     "data": {
      "text/plain": [
       "[(3,)]"
      ]
     },
     "execution_count": 37,
     "metadata": {},
     "output_type": "execute_result"
    }
   ],
   "source": [
    "#COUNTING\n",
    "\n",
    "#COUNTING THE AMOUNT OF MOVIES\n",
    "MyDB = sqlite3.connect('bioskop1.sqlite')\n",
    "cursor = MyDB.cursor()\n",
    "cursor.execute(\"SELECT COUNT(KODE_FILM) FROM TIKET WHERE KODE_FILM = 'DRS'\")\n",
    "films=cursor.fetchall()\n",
    "films"
   ]
  },
  {
   "cell_type": "code",
   "execution_count": 38,
   "id": "65d7f4fa",
   "metadata": {},
   "outputs": [
    {
     "data": {
      "text/plain": [
       "[('17-05-2022', 2), ('18-05-2022', 3), ('21-05-2022', 5)]"
      ]
     },
     "execution_count": 38,
     "metadata": {},
     "output_type": "execute_result"
    }
   ],
   "source": [
    "#COUNTING TANGGAL\n",
    "cursor.execute(\"SELECT TANGGAL, COUNT(TANGGAL) FROM JADWAL GROUP BY TANGGAL \")\n",
    "tanggal=cursor.fetchall()\n",
    "tanggal"
   ]
  },
  {
   "cell_type": "markdown",
   "id": "64d6f8a0",
   "metadata": {},
   "source": [
    "Dapat terlihat dari hasil count bahwa penonton paling banyak hadir pada saat weekend (Sabtu, 21 Mei 2022), yaitu empat penonton. Sementara itu, terdapat dua penonton pada hari Selasa, 17 Mei 2022 dan tiga penonton pada hari Rabu, 18 Mei 2022"
   ]
  },
  {
   "cell_type": "markdown",
   "id": "dd7bcd8e",
   "metadata": {},
   "source": [
    "### **Join**\n",
    "Misalkan ingin dilihat masing-masing pelanggan telah membeli berapa tiket bioskop, maka akan digabungkan dua tabel (tabel PELANGGAN dan tabel PEMESANAN) dengan menggunakan code berikut\n"
   ]
  },
  {
   "cell_type": "code",
   "execution_count": 40,
   "id": "54989d82",
   "metadata": {},
   "outputs": [
    {
     "name": "stdout",
     "output_type": "stream",
     "text": [
      "('Fara', 1)\n",
      "('Aurel', 2)\n",
      "('Natania', 1)\n",
      "('Yovela', 1)\n",
      "('Najwa', 1)\n",
      "('Fairuz', 3)\n",
      "('Nathan', 2)\n",
      "('Raistro', 1)\n",
      "('Natalia', 5)\n",
      "('Mufidah', 1)\n"
     ]
    }
   ],
   "source": [
    "#JOIN\n",
    "MyDB = sqlite3.connect('bioskop1.sqlite')\n",
    "cursor = MyDB.cursor()\n",
    "cursor.execute(\"SELECT PELANGGAN.NAMA, PEMESANAN.JUMLAH_TIKET FROM PELANGGAN JOIN PEMESANAN ON PELANGGAN.ID_PELANGGAN=PEMESANAN.ID_PELANGGAN\")\n",
    "cust=cursor.fetchall()\n",
    "for customer in cust:\n",
    "    print(customer)\n",
    "MyDB.commit()\n",
    "MyDB.close()"
   ]
  },
  {
   "cell_type": "markdown",
   "id": "7786c8ca",
   "metadata": {},
   "source": [
    "Selain menggunakan fungsi **JOIN**, **ON** untuk menggabungkan beberapa tabel, kita dapat juga menggunakan fungsi **WHERE**, **AND** misalnya untuk melihat harga yang dibayar, genre dan film yang ditonton masing-masing pelanggan"
   ]
  },
  {
   "cell_type": "code",
   "execution_count": 41,
   "id": "d8fda3b6",
   "metadata": {},
   "outputs": [
    {
     "name": "stdout",
     "output_type": "stream",
     "text": [
      "('Fara', 1, 85000.0, 'KKN di DESA PENARI', 'horror')\n",
      "('Aurel', 2, 50000.0, 'DR. STRANGE', 'science fiction')\n",
      "('Natania', 1, 50000.0, 'KKN di DESA PENARI', 'horror')\n",
      "('Yovela', 1, 85000.0, 'DR. STRANGE', 'science fiction')\n",
      "('Najwa', 1, 50000.0, 'FIRE STARTER', 'thriller')\n",
      "('Fairuz', 3, 50000.0, 'KKN di DESA PENARI', 'horror')\n",
      "('Nathan', 2, 75000.0, 'DR. STRANGE', 'science fiction')\n",
      "('Raistro', 1, 75000.0, 'KKN di DESA PENARI', 'horror')\n",
      "('Natalia', 5, 60000.0, 'KKN di DESA PENARI', 'horror')\n",
      "('Mufidah', 1, 60000.0, 'KKN di DESA PENARI', 'horror')\n"
     ]
    }
   ],
   "source": [
    "MyDB = sqlite3.connect('bioskop1.sqlite')\n",
    "cursor = MyDB.cursor()\n",
    "cursor.execute(\"SELECT NAMA, JUMLAH_TIKET, HARGA, JUDUL, NAMA_GENRE FROM PELANGGAN, PEMESANAN, TIKET, FILM, GENRE WHERE PELANGGAN.ID_PELANGGAN = PEMESANAN.ID_PELANGGAN AND PEMESANAN.ID_TIKET = TIKET.ID_TIKET AND TIKET.KODE_FILM = FILM.KODE_FILM AND FILM.KODE_GENRE = GENRE.KODE_GENRE\")\n",
    "cust=cursor.fetchall()\n",
    "for customer in cust:\n",
    "    print(customer)\n",
    "MyDB.commit()\n",
    "MyDB.close()"
   ]
  }
 ],
 "metadata": {
  "kernelspec": {
   "display_name": "Python 3",
   "language": "python",
   "name": "python3"
  },
  "language_info": {
   "codemirror_mode": {
    "name": "ipython",
    "version": 3
   },
   "file_extension": ".py",
   "mimetype": "text/x-python",
   "name": "python",
   "nbconvert_exporter": "python",
   "pygments_lexer": "ipython3",
   "version": "3.9.1"
  }
 },
 "nbformat": 4,
 "nbformat_minor": 5
}
